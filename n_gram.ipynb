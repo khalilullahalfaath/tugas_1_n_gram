{
 "cells": [
  {
   "cell_type": "code",
   "execution_count": 68,
   "id": "91d84594",
   "metadata": {},
   "outputs": [],
   "source": [
    "import numpy as np\n",
    "import pandas as pd\n",
    "import pdfplumber"
   ]
  },
  {
   "cell_type": "code",
   "execution_count": 69,
   "id": "d7cece93",
   "metadata": {},
   "outputs": [],
   "source": [
    "from collections import Counter\n",
    "import math"
   ]
  },
  {
   "cell_type": "code",
   "execution_count": 70,
   "id": "3ce23c99",
   "metadata": {},
   "outputs": [],
   "source": [
    "def ekstrak_teks_dari_pdf(path):\n",
    "    with pdfplumber.open(path) as pdf:\n",
    "        text = \"\"\n",
    "        for page in pdf.pages:\n",
    "            text += page.extract_text(x_tolerance=2, y_tolerance=2)\n",
    "    return text"
   ]
  },
  {
   "cell_type": "code",
   "execution_count": 71,
   "id": "e11d18b9",
   "metadata": {},
   "outputs": [
    {
     "name": "stdout",
     "output_type": "stream",
     "text": [
      "lsevier.com/locate/displa\n",
      "A unified architecture for super-resolution and segmentation of remote\n",
      "✩\n",
      "s\n"
     ]
    }
   ],
   "source": [
    "# File yang sama\n",
    "teks_1 = ekstrak_teks_dari_pdf(\"./jurnal/paper1.pdf\")\n",
    "print(teks_1[100:200])"
   ]
  },
  {
   "cell_type": "code",
   "execution_count": 72,
   "id": "598c44d2",
   "metadata": {},
   "outputs": [
    {
     "name": "stdout",
     "output_type": "stream",
     "text": [
      "lsevier.com/locate/displa\n",
      "✩\n",
      "FSNet: A dual-domain network for few-shot image classification\n",
      "∗\n",
      "Xuewen \n"
     ]
    }
   ],
   "source": [
    "# Artikel rekomendasi dari science direct\n",
    "teks_2 = ekstrak_teks_dari_pdf(\"./jurnal/paper2.pdf\")\n",
    "print(teks_2[100:200])"
   ]
  },
  {
   "cell_type": "code",
   "execution_count": 73,
   "id": "b279d694",
   "metadata": {},
   "outputs": [
    {
     "name": "stdout",
     "output_type": "stream",
     "text": [
      "Multi-Scale High-Resolution Vision Transformer for Semantic Segmentation\n",
      "Jiaqi Gu2*, Hyoukjun Kwon1,\n"
     ]
    }
   ],
   "source": [
    "# Artikel yang disitasi paper ini\n",
    "teks_3 = ekstrak_teks_dari_pdf(\"./jurnal/paper3.pdf\")\n",
    "print(teks_3[:100])"
   ]
  },
  {
   "cell_type": "code",
   "execution_count": 74,
   "id": "22f12fe8",
   "metadata": {},
   "outputs": [
    {
     "name": "stdout",
     "output_type": "stream",
     "text": [
      "e at ScienceDirect\n",
      "Engineering Applications of Artificial Intelligence\n",
      "journal homepage: www.elsevie\n"
     ]
    }
   ],
   "source": [
    "# Artikel dengan author yang sama (jurnal beda)\n",
    "teks_4 = ekstrak_teks_dari_pdf(\"./jurnal/paper4.pdf\")\n",
    "print(teks_4[100:200])"
   ]
  },
  {
   "cell_type": "code",
   "execution_count": 75,
   "id": "ede7d634",
   "metadata": {},
   "outputs": [
    {
     "name": "stdout",
     "output_type": "stream",
     "text": [
      "mepage: www.elsevier.com/locate/neucom\n",
      "A multimodal fusion framework for semantic segmentation of re\n"
     ]
    }
   ],
   "source": [
    "# Artikel yang menyitasi paper ini\n",
    "teks_5 = ekstrak_teks_dari_pdf(\"./jurnal/paper5.pdf\")\n",
    "print(teks_5[100:200])"
   ]
  },
  {
   "cell_type": "code",
   "execution_count": 76,
   "id": "06579a7c",
   "metadata": {},
   "outputs": [],
   "source": [
    "def tokenize(text):\n",
    "    return text.lower().split()"
   ]
  },
  {
   "cell_type": "code",
   "execution_count": 77,
   "id": "b013cff6",
   "metadata": {},
   "outputs": [],
   "source": [
    "def ngrams(tokens, n):\n",
    "    return [tuple(tokens[i:i+n]) for i in range(len(tokens)-n+1)]"
   ]
  },
  {
   "cell_type": "code",
   "execution_count": 78,
   "id": "132c4de0",
   "metadata": {},
   "outputs": [],
   "source": [
    "def cosine_similarity(ngrams1, ngrams2):\n",
    "    c1, c2 = Counter(ngrams1), Counter(ngrams2)\n",
    "    all_keys = set(c1.keys()) | set(c2.keys())\n",
    "    \n",
    "    dot = sum(c1[k] * c2[k] for k in all_keys)\n",
    "    norm1 = math.sqrt(sum(v**2 for v in c1.values()))\n",
    "    norm2 = math.sqrt(sum(v**2 for v in c2.values()))\n",
    "    \n",
    "    return dot / (norm1 * norm2) if norm1 and norm2 else 0"
   ]
  },
  {
   "cell_type": "code",
   "execution_count": 79,
   "id": "b49961c4",
   "metadata": {},
   "outputs": [],
   "source": [
    "from sklearn.feature_extraction.text import TfidfVectorizer\n",
    "from sklearn.metrics.pairwise import cosine_similarity as cosine_sim_sklearn\n",
    "\n",
    "def cek_n_gram_all(text_1, text_2):\n",
    "    tokens1 = tokenize(text_1)\n",
    "    tokens2 = tokenize(text_2)\n",
    "\n",
    "    hasil = {}\n",
    "    for n in [1, 2, 3]:\n",
    "        # Cosine dengan n-gram manual\n",
    "        ngrams1 = ngrams(tokens1, n)\n",
    "        ngrams2 = ngrams(tokens2, n)\n",
    "        cosine = cosine_similarity(ngrams1, ngrams2)\n",
    "        hasil[f\"Cosine_n{n}\"] = cosine\n",
    "\n",
    "        # Jaccard\n",
    "        set1, set2 = set(ngrams1), set(ngrams2)\n",
    "        jaccard = len(set1 & set2) / len(set1 | set2) if set1 | set2 else 0\n",
    "        hasil[f\"Jaccard_n{n}\"] = jaccard\n",
    "\n",
    "        # TF-IDF + Cosine\n",
    "        vectorizer = TfidfVectorizer(ngram_range=(n, n))\n",
    "        tfidf = vectorizer.fit_transform([text_1, text_2])\n",
    "        tfidf_cosine = cosine_sim_sklearn(tfidf[0:1], tfidf[1:2])[0][0]\n",
    "        hasil[f\"TFIDF_Cosine_n{n}\"] = tfidf_cosine\n",
    "\n",
    "    return hasil\n",
    "\n",
    "\n"
   ]
  },
  {
   "cell_type": "code",
   "execution_count": 95,
   "id": "5ae408d6",
   "metadata": {},
   "outputs": [
    {
     "name": "stdout",
     "output_type": "stream",
     "text": [
      "    n                                      Perbandingan    Cosine   Jaccard  \\\n",
      "0   1                                Dua file yang sama  1.000000  1.000000   \n",
      "1   1  Artikel yang direkomendasikan oleh ScienceDirect  0.900487  0.201202   \n",
      "2   1                   Artikel yang disitasi paper ini  0.800596  0.156098   \n",
      "3   1                   Artikel dengan author yang sama  0.887178  0.237533   \n",
      "4   1                  Artikel yang menyitasi paper ini  0.901507  0.215031   \n",
      "5   2                                Dua file yang sama  1.000000  1.000000   \n",
      "6   2  Artikel yang direkomendasikan oleh ScienceDirect  0.421375  0.052656   \n",
      "7   2                   Artikel yang disitasi paper ini  0.215511  0.032057   \n",
      "8   2                   Artikel dengan author yang sama  0.398877  0.081555   \n",
      "9   2                  Artikel yang menyitasi paper ini  0.449717  0.063186   \n",
      "10  3                                Dua file yang sama  1.000000  1.000000   \n",
      "11  3  Artikel yang direkomendasikan oleh ScienceDirect  0.074131  0.014110   \n",
      "12  3                   Artikel yang disitasi paper ini  0.020024  0.005488   \n",
      "13  3                   Artikel dengan author yang sama  0.094431  0.030894   \n",
      "14  3                  Artikel yang menyitasi paper ini  0.102433  0.021076   \n",
      "\n",
      "    TFIDF_Cosine  \n",
      "0       1.000000  \n",
      "1       0.852079  \n",
      "2       0.747718  \n",
      "3       0.891466  \n",
      "4       0.871168  \n",
      "5       1.000000  \n",
      "6       0.261127  \n",
      "7       0.154014  \n",
      "8       0.372442  \n",
      "9       0.349449  \n",
      "10      1.000000  \n",
      "11      0.045185  \n",
      "12      0.017118  \n",
      "13      0.093906  \n",
      "14      0.077681  \n"
     ]
    }
   ],
   "source": [
    "perbandingan = [\n",
    "    (\"Dua file yang sama\", teks_1, teks_1),\n",
    "    (\"Artikel yang direkomendasikan oleh ScienceDirect\", teks_1, teks_2),\n",
    "    (\"Artikel yang disitasi paper ini\", teks_1, teks_3),\n",
    "    (\"Artikel dengan author yang sama\", teks_1, teks_4),\n",
    "    (\"Artikel yang menyitasi paper ini\", teks_1, teks_5),\n",
    "]\n",
    "\n",
    "hasil = []\n",
    "for n in [1, 2, 3]:\n",
    "    for label, t1, t2 in perbandingan:\n",
    "        metrics = cek_n_gram_all(t1, t2)\n",
    "        hasil.append({\n",
    "            \"n\": n,\n",
    "            \"Perbandingan\": label,\n",
    "            \"Cosine\": metrics[f\"Cosine_n{n}\"],\n",
    "            \"Jaccard\": metrics[f\"Jaccard_n{n}\"],\n",
    "            \"TFIDF_Cosine\": metrics[f\"TFIDF_Cosine_n{n}\"]\n",
    "        })\n",
    "\n",
    "df = pd.DataFrame(hasil)\n",
    "\n",
    "# Pastikan urut sesuai n lalu perbandingan\n",
    "df = df.sort_values(by=[\"n\"]).reset_index(drop=True)\n",
    "\n",
    "print(df)\n"
   ]
  },
  {
   "cell_type": "code",
   "execution_count": 96,
   "id": "da0d7207",
   "metadata": {},
   "outputs": [
    {
     "data": {
      "application/vnd.microsoft.datawrangler.viewer.v0+json": {
       "columns": [
        {
         "name": "index",
         "rawType": "int64",
         "type": "integer"
        },
        {
         "name": "n",
         "rawType": "int64",
         "type": "integer"
        },
        {
         "name": "Perbandingan",
         "rawType": "object",
         "type": "string"
        },
        {
         "name": "Cosine",
         "rawType": "float64",
         "type": "float"
        },
        {
         "name": "Jaccard",
         "rawType": "float64",
         "type": "float"
        },
        {
         "name": "TFIDF_Cosine",
         "rawType": "float64",
         "type": "float"
        }
       ],
       "ref": "c042ca64-4d2d-4076-a1fa-f0decc4f825b",
       "rows": [
        [
         "0",
         "1",
         "Dua file yang sama",
         "1.0",
         "1.0",
         "0.9999999999999999"
        ],
        [
         "1",
         "1",
         "Artikel yang direkomendasikan oleh ScienceDirect",
         "0.9004869861398799",
         "0.20120186957489428",
         "0.8520788570827087"
        ],
        [
         "2",
         "1",
         "Artikel yang disitasi paper ini",
         "0.8005958684983072",
         "0.15609756097560976",
         "0.7477179684463887"
        ],
        [
         "3",
         "1",
         "Artikel dengan author yang sama",
         "0.8871776970638183",
         "0.2375330755139426",
         "0.8914658154519823"
        ],
        [
         "4",
         "1",
         "Artikel yang menyitasi paper ini",
         "0.9015074713384759",
         "0.2150313152400835",
         "0.8711675591907589"
        ]
       ],
       "shape": {
        "columns": 5,
        "rows": 5
       }
      },
      "text/html": [
       "<div>\n",
       "<style scoped>\n",
       "    .dataframe tbody tr th:only-of-type {\n",
       "        vertical-align: middle;\n",
       "    }\n",
       "\n",
       "    .dataframe tbody tr th {\n",
       "        vertical-align: top;\n",
       "    }\n",
       "\n",
       "    .dataframe thead th {\n",
       "        text-align: right;\n",
       "    }\n",
       "</style>\n",
       "<table border=\"1\" class=\"dataframe\">\n",
       "  <thead>\n",
       "    <tr style=\"text-align: right;\">\n",
       "      <th></th>\n",
       "      <th>n</th>\n",
       "      <th>Perbandingan</th>\n",
       "      <th>Cosine</th>\n",
       "      <th>Jaccard</th>\n",
       "      <th>TFIDF_Cosine</th>\n",
       "    </tr>\n",
       "  </thead>\n",
       "  <tbody>\n",
       "    <tr>\n",
       "      <th>0</th>\n",
       "      <td>1</td>\n",
       "      <td>Dua file yang sama</td>\n",
       "      <td>1.000000</td>\n",
       "      <td>1.000000</td>\n",
       "      <td>1.000000</td>\n",
       "    </tr>\n",
       "    <tr>\n",
       "      <th>1</th>\n",
       "      <td>1</td>\n",
       "      <td>Artikel yang direkomendasikan oleh ScienceDirect</td>\n",
       "      <td>0.900487</td>\n",
       "      <td>0.201202</td>\n",
       "      <td>0.852079</td>\n",
       "    </tr>\n",
       "    <tr>\n",
       "      <th>2</th>\n",
       "      <td>1</td>\n",
       "      <td>Artikel yang disitasi paper ini</td>\n",
       "      <td>0.800596</td>\n",
       "      <td>0.156098</td>\n",
       "      <td>0.747718</td>\n",
       "    </tr>\n",
       "    <tr>\n",
       "      <th>3</th>\n",
       "      <td>1</td>\n",
       "      <td>Artikel dengan author yang sama</td>\n",
       "      <td>0.887178</td>\n",
       "      <td>0.237533</td>\n",
       "      <td>0.891466</td>\n",
       "    </tr>\n",
       "    <tr>\n",
       "      <th>4</th>\n",
       "      <td>1</td>\n",
       "      <td>Artikel yang menyitasi paper ini</td>\n",
       "      <td>0.901507</td>\n",
       "      <td>0.215031</td>\n",
       "      <td>0.871168</td>\n",
       "    </tr>\n",
       "  </tbody>\n",
       "</table>\n",
       "</div>"
      ],
      "text/plain": [
       "   n                                      Perbandingan    Cosine   Jaccard  \\\n",
       "0  1                                Dua file yang sama  1.000000  1.000000   \n",
       "1  1  Artikel yang direkomendasikan oleh ScienceDirect  0.900487  0.201202   \n",
       "2  1                   Artikel yang disitasi paper ini  0.800596  0.156098   \n",
       "3  1                   Artikel dengan author yang sama  0.887178  0.237533   \n",
       "4  1                  Artikel yang menyitasi paper ini  0.901507  0.215031   \n",
       "\n",
       "   TFIDF_Cosine  \n",
       "0      1.000000  \n",
       "1      0.852079  \n",
       "2      0.747718  \n",
       "3      0.891466  \n",
       "4      0.871168  "
      ]
     },
     "execution_count": 96,
     "metadata": {},
     "output_type": "execute_result"
    }
   ],
   "source": [
    "df.head()"
   ]
  },
  {
   "cell_type": "code",
   "execution_count": 97,
   "id": "bcac6e5e",
   "metadata": {},
   "outputs": [
    {
     "name": "stdout",
     "output_type": "stream",
     "text": [
      "\\begin{tabular}{rlrrr}\n",
      "\\toprule\n",
      "n & Perbandingan & Cosine & Jaccard & TFIDF_Cosine \\\\\n",
      "\\midrule\n",
      "1 & Dua file yang sama & 1.0000 & 1.0000 & 1.0000 \\\\\n",
      "1 & Artikel yang direkomendasikan oleh ScienceDirect & 0.9005 & 0.2012 & 0.8521 \\\\\n",
      "1 & Artikel yang disitasi paper ini & 0.8006 & 0.1561 & 0.7477 \\\\\n",
      "1 & Artikel dengan author yang sama & 0.8872 & 0.2375 & 0.8915 \\\\\n",
      "1 & Artikel yang menyitasi paper ini & 0.9015 & 0.2150 & 0.8712 \\\\\n",
      "2 & Dua file yang sama & 1.0000 & 1.0000 & 1.0000 \\\\\n",
      "2 & Artikel yang direkomendasikan oleh ScienceDirect & 0.4214 & 0.0527 & 0.2611 \\\\\n",
      "2 & Artikel yang disitasi paper ini & 0.2155 & 0.0321 & 0.1540 \\\\\n",
      "2 & Artikel dengan author yang sama & 0.3989 & 0.0816 & 0.3724 \\\\\n",
      "2 & Artikel yang menyitasi paper ini & 0.4497 & 0.0632 & 0.3494 \\\\\n",
      "3 & Dua file yang sama & 1.0000 & 1.0000 & 1.0000 \\\\\n",
      "3 & Artikel yang direkomendasikan oleh ScienceDirect & 0.0741 & 0.0141 & 0.0452 \\\\\n",
      "3 & Artikel yang disitasi paper ini & 0.0200 & 0.0055 & 0.0171 \\\\\n",
      "3 & Artikel dengan author yang sama & 0.0944 & 0.0309 & 0.0939 \\\\\n",
      "3 & Artikel yang menyitasi paper ini & 0.1024 & 0.0211 & 0.0777 \\\\\n",
      "\\bottomrule\n",
      "\\end{tabular}\n",
      "\n"
     ]
    }
   ],
   "source": [
    "latex_table = df.to_latex(index=False, float_format=\"%.4f\")\n",
    "\n",
    "print(latex_table)"
   ]
  }
 ],
 "metadata": {
  "kernelspec": {
   "display_name": "env (3.12.2)",
   "language": "python",
   "name": "python3"
  },
  "language_info": {
   "codemirror_mode": {
    "name": "ipython",
    "version": 3
   },
   "file_extension": ".py",
   "mimetype": "text/x-python",
   "name": "python",
   "nbconvert_exporter": "python",
   "pygments_lexer": "ipython3",
   "version": "3.12.2"
  }
 },
 "nbformat": 4,
 "nbformat_minor": 5
}
